{
  "cells": [
    {
      "cell_type": "code",
      "execution_count": null,
      "metadata": {},
      "outputs": [],
      "source": [
        "# Ejemplo de Machine Learning con Scikit-learn\n",
        "# Clasificación de flores Iris usando Regresión Logística\n",
        "\n",
        "import numpy as np\n",
        "import matplotlib.pyplot as plt\n",
        "from sklearn.datasets import load_iris\n",
        "from sklearn.model_selection import train_test_split\n",
        "from sklearn.preprocessing import StandardScaler\n",
        "from sklearn.linear_model import LogisticRegression\n",
        "from sklearn.metrics import accuracy_score, confusion_matrix, Classification_report\n",
        "\n",
        "# Cargar conjunto de datos Iris\n",
        "iris = load_iris()\n",
        "X, y = iris.data, iris.target\n",
        "\n",
        "# Dividir datos en entrenamiento y prueba\n",
        "X_train, X_test, y_train, y_test = train_test_split(X, y, test_size=0.3, random_state=42)\n",
        "\n",
        "# Escalar características\n",
        "scaler = StandardScaler()\n",
        "X_train_scaled = scaler.fit_transform(X_train)\n",
        "X_test_scaled = scaler.transform(X_test)\n",
        "\n",
        "# Entrenar modelo de Regresión Logística\n",
        "modelo = LogisticRegression(max_iter=200)\n",
        "modelo.fit(X_train_scaled, y_train)\n",
        "\n",
        "# Predicciones\n",
        "predicciones = modelo.predict(X_test_scaled)\n",
        "\n",
        "# Métricas de rendimiento\n",
        "print(\"Precisión del modelo:\", accuracy_score(y_test, predicciones))\n",
        "print(\"\\nMatriz de Confusión:\")\n",
        "print(confusion_matrix(y_test, predicciones))\n",
        "print(\"\\nReporte de Clasificación:\")\n",
        "print(Classification_report(y_test, predicciones, target_names=iris.target_names))\n",
        "\n",
        "# Visualización de resultados\n",
        "plt.figure(figsize=(10, 6))\n",
        "plt.scatter(X_test_scaled[:, 0], X_test_scaled[:, 1], c=predicciones, cmap='viridis')\n",
        "plt.title('Clasificación de Flores Iris')\n",
        "plt.xlabel('Longitud de Sépalo (Escalado)')\n",
        "plt.ylabel('Ancho de Sépalo (Escalado)')\n",
        "plt.colorbar(ticks=range(3), label='Tipo de Iris')\n",
        "plt.tight_layout()\n",
        "plt.savefig('clasificacion_iris.png')\n",
        "plt.close()\n"
      ]
    },
    {
      "cell_type": "code",
      "execution_count": null,
      "metadata": {},
      "outputs": [],
      "source": []
    }
  ],
  "metadata": {
    "language_info": {
      "name": "python"
    }
  },
  "nbformat": 4,
  "nbformat_minor": 2
}
